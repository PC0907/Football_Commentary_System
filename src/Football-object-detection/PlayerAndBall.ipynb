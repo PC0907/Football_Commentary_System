{
 "cells": [
  {
   "cell_type": "code",
   "execution_count": 3,
   "metadata": {},
   "outputs": [
    {
     "name": "stdout",
     "output_type": "stream",
     "text": [
      "Creating new Ultralytics Settings v0.0.6 file ✅ \n",
      "View Ultralytics Settings with 'yolo settings' or at '/home/fawwaz/.config/Ultralytics/settings.json'\n",
      "Update Settings with 'yolo settings key=value', i.e. 'yolo settings runs_dir=path/to/dir'. For help see https://docs.ultralytics.com/quickstart/#ultralytics-settings.\n"
     ]
    }
   ],
   "source": [
    "import cv2\n",
    "import numpy as np\n",
    "import sys\n",
    "import time\n",
    "from ultralytics import YOLO\n",
    "from sklearn.cluster import KMeans"
   ]
  },
  {
   "cell_type": "code",
   "execution_count": 4,
   "metadata": {},
   "outputs": [],
   "source": [
    "def get_grass_color(img):\n",
    "    hsv = cv2.cvtColor(img, cv2.COLOR_BGR2HSV)\n",
    "    lower_green = np.array([30, 40, 40])\n",
    "    upper_green = np.array([80, 255, 255])\n",
    "    mask = cv2.inRange(hsv, lower_green, upper_green)\n",
    "    grass_color = cv2.mean(img, mask=mask)\n",
    "    return grass_color[:3]\n"
   ]
  },
  {
   "cell_type": "code",
   "execution_count": 5,
   "metadata": {},
   "outputs": [],
   "source": [
    "def get_players_boxes(result):\n",
    "    players_imgs = []\n",
    "    players_boxes = []\n",
    "    for box in result.boxes:\n",
    "        label = int(box.cls.numpy()[0])\n",
    "        if label == 0:\n",
    "            x1, y1, x2, y2 = map(int, box.xyxy[0].numpy())\n",
    "            player_img = result.orig_img[y1:y2, x1:x2]\n",
    "            players_imgs.append(player_img)\n",
    "            players_boxes.append(box)\n",
    "    return players_imgs, players_boxes"
   ]
  },
  {
   "cell_type": "code",
   "execution_count": 6,
   "metadata": {},
   "outputs": [],
   "source": [
    "def get_kits_colors(players, grass_hsv=None, frame=None):\n",
    "    kits_colors = []\n",
    "    if grass_hsv is None:\n",
    "        grass_color = get_grass_color(frame)\n",
    "        grass_hsv = cv2.cvtColor(np.uint8([[list(grass_color)]]), cv2.COLOR_BGR2HSV)\n",
    "\n",
    "    for player_img in players:\n",
    "        hsv = cv2.cvtColor(player_img, cv2.COLOR_BGR2HSV)\n",
    "        lower_green = np.array([grass_hsv[0, 0, 0] - 10, 40, 40])\n",
    "        upper_green = np.array([grass_hsv[0, 0, 0] + 10, 255, 255])\n",
    "        mask = cv2.inRange(hsv, lower_green, upper_green)\n",
    "        mask = cv2.bitwise_not(mask)\n",
    "        upper_mask = np.zeros(player_img.shape[:2], np.uint8)\n",
    "        upper_mask[0:player_img.shape[0]//2, 0:player_img.shape[1]] = 255\n",
    "        mask = cv2.bitwise_and(mask, upper_mask)\n",
    "        kit_color = np.array(cv2.mean(player_img, mask=mask)[:3])\n",
    "        kits_colors.append(kit_color)\n",
    "    return kits_colors\n"
   ]
  },
  {
   "cell_type": "code",
   "execution_count": 7,
   "metadata": {},
   "outputs": [],
   "source": [
    "def get_kits_classifier(kits_colors):\n",
    "    kits_kmeans = KMeans(n_clusters=2)\n",
    "    kits_kmeans.fit(kits_colors)\n",
    "    return kits_kmeans\n"
   ]
  },
  {
   "cell_type": "code",
   "execution_count": 8,
   "metadata": {},
   "outputs": [],
   "source": [
    "def classify_kits(kits_classifier, kits_colors):\n",
    "    team = kits_classifier.predict(kits_colors)\n",
    "    return team\n"
   ]
  },
  {
   "cell_type": "code",
   "execution_count": 9,
   "metadata": {},
   "outputs": [],
   "source": [
    "def get_left_team_label(players_boxes, kits_colors, kits_clf):\n",
    "    left_team_label = 0\n",
    "    team_0 = []\n",
    "    team_1 = []\n",
    "\n",
    "    for i in range(len(players_boxes)):\n",
    "        x1, y1, x2, y2 = map(int, players_boxes[i].xyxy[0].numpy())\n",
    "        team = classify_kits(kits_clf, [kits_colors[i]]).item()\n",
    "        if team == 0:\n",
    "            team_0.append(np.array([x1]))\n",
    "        else:\n",
    "            team_1.append(np.array([x1]))\n",
    "\n",
    "    team_0 = np.array(team_0)\n",
    "    team_1 = np.array(team_1)\n",
    "\n",
    "    if np.average(team_0) - np.average(team_1) > 0:\n",
    "        left_team_label = 1\n",
    "\n",
    "    return left_team_label\n"
   ]
  },
  {
   "cell_type": "code",
   "execution_count": 10,
   "metadata": {},
   "outputs": [],
   "source": [
    "def annotate_video(video_path, model):\n",
    "    cap = cv2.VideoCapture(video_path)\n",
    "    total_frames = int(cap.get(cv2.CAP_PROP_FRAME_COUNT))\n",
    "    height = int(cap.get(cv2.CAP_PROP_FRAME_HEIGHT))\n",
    "    width = int(cap.get(cv2.CAP_PROP_FRAME_WIDTH))\n",
    "    fps = cap.get(cv2.CAP_PROP_FPS)\n",
    "\n",
    "    video_name = video_path.split('/')[-1]\n",
    "    fourcc = cv2.VideoWriter_fourcc(*'mp4v')\n",
    "    output_video = cv2.VideoWriter('./output/'+video_name.split('.')[0] + \"_out.mp4\",\n",
    "                                   fourcc,\n",
    "                                   fps,\n",
    "                                   (width, height))\n",
    "\n",
    "    kits_clf = None\n",
    "    left_team_label = 0\n",
    "    grass_hsv = None\n",
    "    frame_count = 0\n",
    "\n",
    "    start_time = time.time()  # Start timer\n",
    "\n",
    "    while cap.isOpened():\n",
    "        success, frame = cap.read()\n",
    "        current_frame_idx = cap.get(cv2.CAP_PROP_POS_FRAMES)\n",
    "        if success:\n",
    "            annotated_frame = cv2.resize(frame, (width, height))\n",
    "            result = model(annotated_frame, conf=0.5, verbose=False)[0]\n",
    "\n",
    "            players_imgs, players_boxes = get_players_boxes(result)\n",
    "            kits_colors = get_kits_colors(players_imgs, grass_hsv, annotated_frame)\n",
    "\n",
    "            if current_frame_idx == 1:\n",
    "                kits_clf = get_kits_classifier(kits_colors)\n",
    "                left_team_label = get_left_team_label(players_boxes, kits_colors, kits_clf)\n",
    "                grass_color = get_grass_color(result.orig_img)\n",
    "                grass_hsv = cv2.cvtColor(np.uint8([[list(grass_color)]]), cv2.COLOR_BGR2HSV)\n",
    "\n",
    "            for box in result.boxes:\n",
    "                label = int(box.cls.numpy()[0])\n",
    "                x1, y1, x2, y2 = map(int, box.xyxy[0].numpy())\n",
    "\n",
    "                if label == 0:\n",
    "                    kit_color = get_kits_colors([result.orig_img[y1:y2, x1:x2]], grass_hsv)\n",
    "                    team = classify_kits(kits_clf, kit_color)\n",
    "                    if team == left_team_label:\n",
    "                        label = 0\n",
    "                    else:\n",
    "                        label = 1\n",
    "                elif label == 1:\n",
    "                    if x1 < 0.5 * width:\n",
    "                        label = 2\n",
    "                    else:\n",
    "                        label = 3\n",
    "                else:\n",
    "                    label = label + 2\n",
    "\n",
    "                cv2.rectangle(annotated_frame, (x1, y1), (x2, y2), box_colors[str(label)], 2)\n",
    "                cv2.putText(annotated_frame, labels[label], (x1 - 30, y1 - 10), cv2.FONT_HERSHEY_SIMPLEX, 0.9,\n",
    "                            box_colors[str(label)], 2)\n",
    "\n",
    "            output_video.write(annotated_frame)\n",
    "\n",
    "            # Update progress\n",
    "            frame_count += 1\n",
    "            elapsed_time = time.time() - start_time\n",
    "            remaining_time = (total_frames - frame_count) * (elapsed_time / frame_count)\n",
    "            percent_complete = (frame_count / total_frames) * 100\n",
    "\n",
    "            print(f\"\\rProcessing: {percent_complete:.2f}% completed, Estimated time remaining: {remaining_time:.2f} seconds\", end='')\n",
    "\n",
    "        else:\n",
    "            break\n",
    "\n",
    "    print()  # New line after processing completion\n",
    "    cv2.destroyAllWindows()\n",
    "    output_video.release()\n",
    "    cap.release()"
   ]
  },
  {
   "cell_type": "code",
   "execution_count": 11,
   "metadata": {},
   "outputs": [
    {
     "name": "stdout",
     "output_type": "stream",
     "text": [
      "\n",
      "\n",
      "Total processing time for the video: 0.14 seconds\n"
     ]
    },
    {
     "name": "stderr",
     "output_type": "stream",
     "text": [
      "[ WARN:0@5007.865] global cap_gstreamer.cpp:1436 open OpenCV | GStreamer warning: Error opening bin: syntax error\n",
      "[ WARN:0@5007.865] global cap_gstreamer.cpp:1173 isPipelinePlaying OpenCV | GStreamer warning: GStreamer: pipeline have not been created\n",
      "[ WARN:0@5007.876] global cap.cpp:643 open VIDEOIO(GSTREAMER): raised OpenCV exception:\n",
      "\n",
      "OpenCV(4.10.0) /croot/opencv-suite_1738308879330/work/modules/videoio/src/cap_gstreamer.cpp:2373: error: (-215:Assertion failed) fps > 0 in function 'open'\n",
      "\n",
      "\n"
     ]
    }
   ],
   "source": [
    "labels = [\"Player-L\", \"Player-R\", \"GK-L\", \"GK-R\", \"Ball\", \"Main Ref\", \"Side Ref\", \"Staff\"]\n",
    "box_colors = {\n",
    "    \"0\": (150, 50, 50),\n",
    "    \"1\": (37, 47, 150),\n",
    "    \"2\": (41, 248, 165),\n",
    "    \"3\": (166, 196, 10),\n",
    "    \"4\": (155, 62, 157),\n",
    "    \"5\": (123, 174, 213),\n",
    "    \"6\": (217, 89, 204),\n",
    "    \"7\": (22, 11, 15)\n",
    "}\n",
    "model = YOLO(\"./weights/last.pt\")\n",
    "video_path = sys.argv[1]\n",
    "\n",
    "start_time = time.time()\n",
    "annotate_video(video_path, model)\n",
    "end_time = time.time()\n",
    "\n",
    "processing_time = end_time - start_time\n",
    "print(f\"\\nTotal processing time for the video: {processing_time:.2f} seconds\")\n"
   ]
  },
  {
   "cell_type": "code",
   "execution_count": null,
   "metadata": {},
   "outputs": [],
   "source": []
  },
  {
   "cell_type": "code",
   "execution_count": null,
   "metadata": {},
   "outputs": [],
   "source": []
  },
  {
   "cell_type": "code",
   "execution_count": null,
   "metadata": {},
   "outputs": [],
   "source": []
  },
  {
   "cell_type": "code",
   "execution_count": null,
   "metadata": {},
   "outputs": [],
   "source": []
  }
 ],
 "metadata": {
  "kernelspec": {
   "display_name": "base",
   "language": "python",
   "name": "python3"
  },
  "language_info": {
   "codemirror_mode": {
    "name": "ipython",
    "version": 3
   },
   "file_extension": ".py",
   "mimetype": "text/x-python",
   "name": "python",
   "nbconvert_exporter": "python",
   "pygments_lexer": "ipython3",
   "version": "3.12.7"
  }
 },
 "nbformat": 4,
 "nbformat_minor": 2
}
